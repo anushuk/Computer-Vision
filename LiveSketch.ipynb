{
 "cells": [
  {
   "cell_type": "code",
   "execution_count": 29,
   "metadata": {
    "collapsed": true
   },
   "outputs": [],
   "source": [
    "import cv2\n",
    "import numpy as np"
   ]
  },
  {
   "cell_type": "code",
   "execution_count": 51,
   "metadata": {
    "scrolled": true
   },
   "outputs": [],
   "source": [
    "# our sketch generating function\n",
    "def sketch(img):\n",
    "    \n",
    "    # convert image to gray scale \n",
    "    im_gray=cv2.cvtColor(img, cv2.COLOR_BGR2GRAY)\n",
    "    \n",
    "    # clean up image by gaussian blur\n",
    "    im_gray_blur= cv2.GaussianBlur(im_gray,(5,5),0)\n",
    "    \n",
    "    # extract edges\n",
    "    canny_edge=cv2.Canny(im_gray_blur,30,130)\n",
    "    \n",
    "    # do an invert binarize the image\n",
    "    res, mask =cv2.threshold(canny_edge,127,255,cv2.THRESH_BINARY_INV)\n",
    "    \n",
    "    return mask\n"
   ]
  },
  {
   "cell_type": "code",
   "execution_count": 52,
   "metadata": {},
   "outputs": [],
   "source": [
    "# Intialize webcam, cap is object provided by videocapture\n",
    "# it contains boolean indicating if it was sucessful(ret)\n",
    "# it also contains image captur\n",
    "cap=cv2.VideoCapture(0)\n",
    "cap.set(3,1366)\n",
    "cap.set(4,768)\n",
    "\n",
    "while (cap.isOpened()):\n",
    "    ret, frame=cap.read()\n",
    "    cv2.imshow('liveSketch',sketch(frame))\n",
    "    if cv2.waitKey(1) == 13 :  # 13 is the enter key\n",
    "        break\n",
    "cap.release()\n",
    "cv2.destroyAllWindows()"
   ]
  },
  {
   "cell_type": "code",
   "execution_count": null,
   "metadata": {
    "collapsed": true
   },
   "outputs": [],
   "source": []
  }
 ],
 "metadata": {
  "kernelspec": {
   "display_name": "Python 3",
   "language": "python",
   "name": "python3"
  },
  "language_info": {
   "codemirror_mode": {
    "name": "ipython",
    "version": 3
   },
   "file_extension": ".py",
   "mimetype": "text/x-python",
   "name": "python",
   "nbconvert_exporter": "python",
   "pygments_lexer": "ipython3",
   "version": "3.5.3"
  }
 },
 "nbformat": 4,
 "nbformat_minor": 2
}
